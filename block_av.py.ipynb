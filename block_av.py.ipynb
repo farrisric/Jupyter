{
 "cells": [
  {
   "cell_type": "code",
   "execution_count": 45,
   "metadata": {},
   "outputs": [
    {
     "name": "stdout",
     "output_type": "stream",
     "text": [
      "1    -12815.966913290002    0.09304624231585663    0.001414216390808705\n",
      "2    -12815.966913290002    0.1194935170574277    0.0020000080000480004\n",
      "3    -12815.966913290002    0.15828984580393363    0.0028284497524347207\n",
      "4    -12815.966913290002    0.2128104283401654    0.004000064001536041\n",
      "5    -12815.966913290002    0.2874919744454305    0.005657035277517755\n",
      "6    -12815.968051945725    0.387128631271335    0.008000768110609697\n",
      "7    -12815.968051945725    0.5129660681132229    0.011315519126906889\n",
      "8    -12815.968051945725    0.6583425031216502    0.016004609991611997\n",
      "9    -12815.970349923955    0.8199989307080812    0.022645540682891915\n",
      "10    -12815.970349923955    0.987150426970713    0.032042066805600074\n",
      "11    -12815.970349923955    1.085078857940328    0.045360921162651446\n"
     ]
    }
   ],
   "source": [
    "import numpy as np\n",
    "\n",
    "#Defining the function to calculate the block average\n",
    "def average_block(num_block_transformation, file_data):\n",
    "    \n",
    "    data = np.loadtxt(file_data, usecols = 1)\n",
    "#Saving the number of frames 2 times, one variable will stay the same and the other will vary. \n",
    "#From this it will calculate the size of the block doing num_frames/num_blocks\n",
    "    num_frames = len(data)\n",
    "    num_blocks = len(data)\n",
    "    st_dev = np.sqrt(np.sum((data-np.mean(data))**2)/(len(data)*(len(data)-1)))\n",
    "    error = 1/(np.sqrt((2*(num_blocks - 1))))\n",
    "#For loop that does the number of calculation you want    \n",
    "    for i in range(1,num_block_transformation):\n",
    "#Here it checks if the num_blocks is divisible for 2, if not it will delete the last block and make the division\n",
    "        if (num_blocks % 2) == 0:\n",
    "            num_blocks = int(num_blocks/2)\n",
    "        else:\n",
    "            data = np.delete(data, -1)\n",
    "            num_blocks = len(data)\n",
    "            num_blocks = int(num_blocks/2)\n",
    "#Calculating the mean value of the block, the st. dev. for all the block and the error from the st_dev and the num_block            \n",
    "        data = data.reshape(num_blocks,2,1)\n",
    "        data = np.mean(data, axis= 1)\n",
    "        numerator = 0\n",
    "        for f in data:\n",
    "            value =+ (f-np.mean(data))**2    \n",
    "        varianza = np.sqrt(np.sum((data-np.mean(data))**2)/(len(data)*(len(data)-1)))\n",
    "        errore = 1/(np.sqrt((2*(num_blocks - 1))))\n",
    "        blocksize = int(num_frames/num_blocks)\n",
    "#Every run it prints the block size, the st_dev, and the error        \n",
    "        print(i, \"  \",np.mean(data),\"  \",varianza,\"  \",errore )\n",
    "\n",
    "#HERE WE CALL THE FUNCTION:    \n",
    "#Write here the parameters for the analysis\n",
    "#(number of times you want to do the trasformation, path for the summary.DENSITY file)\n",
    "\n",
    "average_block(12,\"D:/TESI_DATI/ETOT/2BO/0.00/summary.EPTOT\")     "
   ]
  },
  {
   "cell_type": "code",
   "execution_count": 10,
   "metadata": {
    "scrolled": true
   },
   "outputs": [
    {
     "data": {
      "image/png": "[encoded data removed]",
      "text/plain": [
       "<Figure size 432x288 with 1 Axes>"
      ]
     },
     "metadata": {
      "needs_background": "light"
     },
     "output_type": "display_data"
    }
   ],
   "source": [
    "import numpy as np\n",
    "import matplotlib.pyplot as plt\n",
    "#Defining the function to calculate the block average\n",
    "def average_block(num_block_transformation, file_data):\n",
    "    \n",
    "    data = np.loadtxt(file_data, usecols = 1)\n",
    "#Saving the number of frames 2 times, one variable will stay the same and the other will vary. \n",
    "#From this it will calculate the size of the block doing num_frames/num_blocks\n",
    "    media = np.mean(data)\n",
    "    num_frames = len(data)\n",
    "    num_blocks = len(data)\n",
    "    x = []\n",
    "    y = []\n",
    "    er = []\n",
    "#For loop that does the number of calculation you want    \n",
    "    for i in range(0,num_block_transformation):\n",
    "#Here it checks if the num_blocks is divisible for 2, if not it will delete the last block and make the division\n",
    "        if (num_blocks % 2) == 0:\n",
    "            num_blocks = int(num_blocks/2)\n",
    "        else:\n",
    "            data = np.delete(data, -1)\n",
    "            num_blocks = len(data)\n",
    "            num_blocks = int(num_blocks/2)\n",
    "#Calculating the mean value of the block, the st. dev. for all the block and the error from the st_dev and the num_block            \n",
    "        data = data.reshape(num_blocks,2,1)\n",
    "        data = np.mean(data, axis= 1)\n",
    "        varianza = np.sqrt(np.sum((data-np.mean(data))**2)/(len(data)*(len(data)-1)))\n",
    "        errore = varianza/(np.sqrt((2*(num_blocks - 1))))\n",
    "        blocksize = int(num_frames/num_blocks)\n",
    "#Every run it prints the block size, the st_dev, and the error        \n",
    "        x.append(i)\n",
    "        y.append(varianza)\n",
    "        er.append(errore)\n",
    "#Plottings everything\n",
    "    plt.errorbar(x, y,yerr=er, fmt='ko')\n",
    "    plt.xlabel(\"Number of Block transformation\")\n",
    "    plt.ylabel(\"Standard Deviation\")\n",
    "    \n",
    "    \n",
    "    \n",
    "#HERE WE CALL THE FUNCTION:    \n",
    "#Write here the parameters for the analysis\n",
    "#(number of times you want to do the trasformation, path for the summary.DENSITY file)\n",
    "\n",
    "average_block(15,\"C:/Users/r.farris10/Dropbox/Mixtures_2019/Density/summary.DENSITY\")        \n",
    "\n",
    "#To know before what will be the block size from the number of trasformation just do 2^num_of_trasf \n",
    "\n"
   ]
  },
  {
   "cell_type": "code",
   "execution_count": 10,
   "metadata": {},
   "outputs": [
    {
     "name": "stdout",
     "output_type": "stream",
     "text": [
      "5.339359268032478e-06 3.2678308609940258e-06\n",
      "7.4722666367236805e-06 5.467089403594451e-06\n",
      "1.4944563162723133e-05 1.093418974143878e-05\n",
      "125000\n",
      "0.7573572782\n",
      "0.7573572782\n",
      "(250000,)\n"
     ]
    }
   ],
   "source": [
    "import numpy as np\n",
    "\n",
    "data = np.loadtxt(\"C:/Users/r.farris10/Dropbox/Mixtures_2019/Density/summary.DENSITY\", usecols=1)\n",
    "media = np.mean(data)\n",
    "varianza = np.sqrt(np.sum((data-media)**2)/(len(data)*(len(data)-1)))\n",
    "errore = np.sqrt(varianza/len(data))\n",
    "print(varianza,errore)\n",
    "\n",
    "data = data.reshape(int(len(data)/2),2,1)\n",
    "data = np.mean(data, axis= 1)\n",
    "media = np.mean(data)\n",
    "varianza = np.sqrt(np.sum((data-media)**2)/(len(data)*(len(data)-1)))\n",
    "errore = np.sqrt(varianza/len(data))\n",
    "print(varianza,errore)\n",
    "\n",
    "data = data.reshape(int(len(data)/2),2,1)\n",
    "media = np.mean(data)\n",
    "varianza = np.sqrt(np.sum((data-media)**2)/(len(data)*(len(data)-1)))\n",
    "errore = np.sqrt(varianza/len(data))\n",
    "print(varianza,errore)\n",
    "\n",
    "\n",
    "print(len(data))\n",
    "print(np.mean(data))\n",
    "\n",
    "print(np.mean(data.flatten()))\n",
    "print(np.shape(data.flatten()))"
   ]
  },
  {
   "cell_type": "code",
   "execution_count": 16,
   "metadata": {},
   "outputs": [
    {
     "name": "stdout",
     "output_type": "stream",
     "text": [
      "[ 16  64 144 256]\n",
      "480\n"
     ]
    }
   ],
   "source": [
    "cacca = np.array([2,4,6,8])\n",
    "\n",
    "print((cacca*2)**2)\n",
    "print(np.sum((cacca*2)**2))"
   ]
  },
  {
   "cell_type": "code",
   "execution_count": 11,
   "metadata": {},
   "outputs": [
    {
     "data": {
      "image/png": "[encoded data removed]",
      "text/plain": [
       "<Figure size 432x288 with 1 Axes>"
      ]
     },
     "metadata": {
      "needs_background": "light"
     },
     "output_type": "display_data"
    }
   ],
   "source": [
    "import numpy as np\n",
    "import matplotlib.pyplot as plt\n",
    "#Defining the function to calculate the block average\n",
    "def average_block(num_block_transformation, file_data):\n",
    "    \n",
    "    data = np.loadtxt(file_data, usecols = 1)\n",
    "#Saving the number of frames 2 times, one variable will stay the same and the other will vary. \n",
    "#From this it will calculate the size of the block doing num_frames/num_blocks\n",
    "    media = np.mean(data)\n",
    "    num_frames = len(data)\n",
    "    num_blocks = len(data)\n",
    "    x = []\n",
    "    y = []\n",
    "    er = []\n",
    "#For loop that does the number of calculation you want    \n",
    "    for i in range(0,num_block_transformation):\n",
    "#Here it checks if the num_blocks is divisible for 2, if not it will delete the last block and make the division\n",
    "        if (num_blocks % 2) == 0:\n",
    "            num_blocks = int(num_blocks/2)\n",
    "        else:\n",
    "            data = np.delete(data, -1)\n",
    "            num_blocks = len(data)\n",
    "            num_blocks = int(num_blocks/2)\n",
    "#Calculating the mean value of the block, the st. dev. for all the block and the error from the st_dev and the num_block            \n",
    "        data = data.reshape(num_blocks,2,1)\n",
    "        data = np.mean(data, axis= 1)\n",
    "        varianza = np.sqrt(np.sum((data-np.mean(data))**2)/(len(data)*(len(data)-1)))\n",
    "        errore = varianza/(np.sqrt((2*(num_blocks - 1))))\n",
    "        blocksize = int(num_frames/num_blocks)\n",
    "#Every run it prints the block size, the st_dev, and the error        \n",
    "        x.append(i)\n",
    "        y.append(varianza)\n",
    "        er.append(errore)\n",
    "#Plottings everything\n",
    "    plt.errorbar(x, y,yerr=er, fmt='ko')\n",
    "    plt.xlabel(\"Number of Block transformation\")\n",
    "    plt.ylabel(\"Standard Deviation\")\n",
    "    \n",
    "    \n",
    "    \n",
    "#HERE WE CALL THE FUNCTION:    \n",
    "#Write here the parameters for the analysis\n",
    "#(number of times you want to do the trasformation, path for the summary.DENSITY file)\n",
    "\n",
    "average_block(15,\"C:/Users/r.farris10/Dropbox/Mixtures_2019/summary.DENSITY\")        \n",
    "\n",
    "#To know before what will be the block size from the number of trasformation just do 2^num_of_trasf "
   ]
  },
  {
   "cell_type": "code",
   "execution_count": 1,
   "metadata": {},
   "outputs": [
    {
     "ename": "NameError",
     "evalue": "name 'data' is not defined",
     "output_type": "error",
     "traceback": [
      "\u001b[1;31m---------------------------------------------------------------------------\u001b[0m",
      "\u001b[1;31mNameError\u001b[0m                                 Traceback (most recent call last)",
      "\u001b[1;32m<ipython-input-1-c6201f8cef64>\u001b[0m in \u001b[0;36m<module>\u001b[1;34m\u001b[0m\n\u001b[1;32m----> 1\u001b[1;33m \u001b[0mlen\u001b[0m\u001b[1;33m(\u001b[0m\u001b[0mdata\u001b[0m\u001b[1;33m)\u001b[0m\u001b[1;33m\u001b[0m\u001b[1;33m\u001b[0m\u001b[0m\n\u001b[0m",
      "\u001b[1;31mNameError\u001b[0m: name 'data' is not defined"
     ]
    }
   ],
   "source": [
    "len(data)"
   ]
  },
  {
   "cell_type": "code",
   "execution_count": null,
   "metadata": {},
   "outputs": [],
   "source": []
  }
 ],
 "metadata": {
  "kernelspec": {
   "display_name": "Python 3",
   "language": "python",
   "name": "python3"
  },
  "language_info": {
   "codemirror_mode": {
    "name": "ipython",
    "version": 3
   },
   "file_extension": ".py",
   "mimetype": "text/x-python",
   "name": "python",
   "nbconvert_exporter": "python",
   "pygments_lexer": "ipython3",
   "version": "3.7.6"
  }
 },
 "nbformat": 4,
 "nbformat_minor": 4
}
